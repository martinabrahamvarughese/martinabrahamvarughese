{
  "cells": [
    {
      "cell_type": "markdown",
      "metadata": {
        "id": "view-in-github",
        "colab_type": "text"
      },
      "source": [
        "<a href=\"https://colab.research.google.com/github/martinabrahamvarughese/martinabrahamvarughese/blob/main/Copy_of_The_Klinkenberg_Effect.ipynb\" target=\"_parent\"><img src=\"https://colab.research.google.com/assets/colab-badge.svg\" alt=\"Open In Colab\"/></a>"
      ]
    },
    {
      "cell_type": "markdown",
      "source": [
        "The Klinkenberg Effect\n",
        "\n",
        "k(g) = k(l) + c(1/pm)\n",
        "kg = measured gas permeability pm = mean pressure kL = equivalent liquid permeability, i.e., absolute permeability, k c = slope of the line\n",
        "\n",
        "c = b.k(l) = 6.9 kL^(-0.36)\n",
        "\n",
        "6.9kL^(0.64) + pmkL - pm*kg = 0\n",
        "\n",
        "Example : -\n",
        "\n",
        "The permeability of a core plug is measured by air. Only one measurement is made at a mean pressure of 2.152 psi. The air permeability is 46.6 md. Estimate the absolute permeability of the core sample. Compare the result with *the actual absolute permeability of 23.66 md*."
      ],
      "metadata": {
        "id": "TIz-sT9l3qnm"
      }
    },
    {
      "cell_type": "code",
      "source": [
        "k = input(\"\\nEnter your first guess of absolute permeability kl: \")\n",
        "\n",
        "k = float(k)\n",
        "\n",
        "#f(k= kl) = 6.9kL^(0.64) + pmkL - pm*kg = 0\n",
        "# f'(k) = 4.416 ki^(-0.36) + pm\n",
        "\n",
        "pm  = input(\"\\nEnter Mean Pr. Pm: \")\n",
        "pm = float(pm)\n",
        "\n",
        "kg = input(\"\\nEnter K(air) = kg: \")\n",
        "kg = float(kg)\n",
        "\n",
        "while abs(6.9*(k**0.64) + pm*k - pm*kg) > 0.01:\n",
        "  k = k - (6.9*(k**0.64) + pm*k - pm*kg)/(4.416*(k**(-0.36)) + pm)\n",
        "\n",
        "print(f\"The final value of Perm K is : {k}\")\n"
      ],
      "metadata": {
        "id": "f9oNa9iM3xcC",
        "outputId": "bf8b9cd3-ab97-4dbc-b7d0-15cd6d03fd43",
        "colab": {
          "base_uri": "https://localhost:8080/"
        }
      },
      "execution_count": null,
      "outputs": [
        {
          "output_type": "stream",
          "name": "stdout",
          "text": [
            "\n",
            "Enter your first guess of absolute permeability kl: 100\n",
            "\n",
            "Enter Mean Pr. Pm: 2.152\n",
            "\n",
            "Enter K(air) = kg: 46.6\n",
            "The final value of Perm K is : 22.848969848793512\n"
          ]
        }
      ]
    },
    {
      "cell_type": "code",
      "source": [],
      "metadata": {
        "id": "GEQRVy6O4Amy"
      },
      "execution_count": null,
      "outputs": []
    },
    {
      "cell_type": "code",
      "source": [],
      "metadata": {
        "id": "oRXhyovI33-f"
      },
      "execution_count": null,
      "outputs": []
    }
  ],
  "metadata": {
    "colab": {
      "provenance": [],
      "include_colab_link": true
    },
    "kernelspec": {
      "display_name": "Python 3",
      "name": "python3"
    }
  },
  "nbformat": 4,
  "nbformat_minor": 0
}